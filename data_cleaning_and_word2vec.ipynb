{
 "cells": [
  {
   "cell_type": "code",
   "execution_count": 4,
   "metadata": {},
   "outputs": [],
   "source": [
    "import numpy as np\n",
    "import pandas as pd\n",
    "import matplotlib.pyplot as plt"
   ]
  },
  {
   "cell_type": "code",
   "execution_count": 7,
   "metadata": {},
   "outputs": [
    {
     "ename": "ModuleNotFoundError",
     "evalue": "No module named 'gensim'",
     "output_type": "error",
     "traceback": [
      "\u001b[1;31m---------------------------------------------------------------------------\u001b[0m",
      "\u001b[1;31mModuleNotFoundError\u001b[0m                       Traceback (most recent call last)",
      "\u001b[1;32m<ipython-input-7-64439b02e2b3>\u001b[0m in \u001b[0;36m<module>\u001b[1;34m\u001b[0m\n\u001b[0;32m      1\u001b[0m \u001b[1;32mfrom\u001b[0m \u001b[0mnltk\u001b[0m\u001b[1;33m.\u001b[0m\u001b[0mcorpus\u001b[0m \u001b[1;32mimport\u001b[0m \u001b[0mstopwords\u001b[0m\u001b[1;33m\u001b[0m\u001b[1;33m\u001b[0m\u001b[0m\n\u001b[0;32m      2\u001b[0m \u001b[1;32mfrom\u001b[0m \u001b[0mnltk\u001b[0m\u001b[1;33m.\u001b[0m\u001b[0mtokenize\u001b[0m \u001b[1;32mimport\u001b[0m \u001b[0mword_tokenize\u001b[0m\u001b[1;33m\u001b[0m\u001b[1;33m\u001b[0m\u001b[0m\n\u001b[1;32m----> 3\u001b[1;33m \u001b[1;32mfrom\u001b[0m \u001b[0mgensim\u001b[0m\u001b[1;33m.\u001b[0m\u001b[0mmodels\u001b[0m \u001b[1;32mimport\u001b[0m \u001b[0mWord2Vec\u001b[0m\u001b[1;33m\u001b[0m\u001b[1;33m\u001b[0m\u001b[0m\n\u001b[0m",
      "\u001b[1;31mModuleNotFoundError\u001b[0m: No module named 'gensim'"
     ]
    }
   ],
   "source": [
    "from nltk.corpus import stopwords\n",
    "from nltk.tokenize import word_tokenize\n",
    "from gensim.models import Word2Vec"
   ]
  },
  {
   "cell_type": "code",
   "execution_count": 1,
   "metadata": {
    "scrolled": true
   },
   "outputs": [
    {
     "ename": "NameError",
     "evalue": "name 'pd' is not defined",
     "output_type": "error",
     "traceback": [
      "\u001b[1;31m---------------------------------------------------------------------------\u001b[0m",
      "\u001b[1;31mNameError\u001b[0m                                 Traceback (most recent call last)",
      "\u001b[1;32m<ipython-input-1-2e15a3508120>\u001b[0m in \u001b[0;36m<module>\u001b[1;34m\u001b[0m\n\u001b[0;32m      1\u001b[0m \u001b[1;31m# Take only comment and point columns in dataset\u001b[0m\u001b[1;33m\u001b[0m\u001b[1;33m\u001b[0m\u001b[1;33m\u001b[0m\u001b[0m\n\u001b[1;32m----> 2\u001b[1;33m \u001b[0mdf\u001b[0m \u001b[1;33m=\u001b[0m \u001b[0mpd\u001b[0m\u001b[1;33m.\u001b[0m\u001b[0mread_csv\u001b[0m\u001b[1;33m(\u001b[0m\u001b[1;34m'data/turkish_movie_sentiment_dataset.csv'\u001b[0m\u001b[1;33m)\u001b[0m\u001b[1;33m\u001b[0m\u001b[1;33m\u001b[0m\u001b[0m\n\u001b[0m\u001b[0;32m      3\u001b[0m \u001b[1;32mdel\u001b[0m \u001b[0mdf\u001b[0m\u001b[1;33m[\u001b[0m\u001b[1;34m'film_name'\u001b[0m\u001b[1;33m]\u001b[0m\u001b[1;33m\u001b[0m\u001b[1;33m\u001b[0m\u001b[0m\n\u001b[0;32m      4\u001b[0m \u001b[0mdf\u001b[0m\u001b[1;33m.\u001b[0m\u001b[0mhead\u001b[0m\u001b[1;33m(\u001b[0m\u001b[1;36m10\u001b[0m\u001b[1;33m)\u001b[0m\u001b[1;33m\u001b[0m\u001b[1;33m\u001b[0m\u001b[0m\n",
      "\u001b[1;31mNameError\u001b[0m: name 'pd' is not defined"
     ]
    }
   ],
   "source": [
    "# Take only comment and point columns in dataset\n",
    "df = pd.read_csv('data/turkish_movie_sentiment_dataset.csv')\n",
    "del df['film_name']\n",
    "df.head(10)"
   ]
  },
  {
   "cell_type": "raw",
   "metadata": {},
   "source": [
    "# Clean dataset:\n",
    "#   remove all punctions, numbers, newlines etc.\n",
    "#   make points categorical(5 class): 0-1->0 , 2->1, 3->2, 4->3, 5->4 \n",
    "df['comment'] = df['comment'].replace('\\s+', ' ', regex=True)\n",
    "df['comment'] = df['comment'].replace('http\\S+', '', regex=True)\n",
    "df['comment'] = df['comment'].replace('[^a-zA-ZığĞÜüŞşİÖöÇç]', ' ', regex=True)\n",
    "df['point'] = df['point'].replace('0,5','0', regex=True)\n",
    "df['point'] = df['point'].replace('1,\\d','0', regex=True)\n",
    "df['point'] = df['point'].replace('2,\\d','1', regex=True)\n",
    "df['point'] = df['point'].replace('3,\\d','2', regex=True)\n",
    "df['point'] = df['point'].replace('4,\\d','3', regex=True)\n",
    "df['point'] = df['point'].replace('5,\\d','4', regex=True)\n",
    "df['point'] = df['point'].astype(int)\n",
    "df.head(5)"
   ]
  },
  {
   "cell_type": "code",
   "execution_count": 4,
   "metadata": {},
   "outputs": [
    {
     "data": {
      "text/html": [
       "<div>\n",
       "<style scoped>\n",
       "    .dataframe tbody tr th:only-of-type {\n",
       "        vertical-align: middle;\n",
       "    }\n",
       "\n",
       "    .dataframe tbody tr th {\n",
       "        vertical-align: top;\n",
       "    }\n",
       "\n",
       "    .dataframe thead th {\n",
       "        text-align: right;\n",
       "    }\n",
       "</style>\n",
       "<table border=\"1\" class=\"dataframe\">\n",
       "  <thead>\n",
       "    <tr style=\"text-align: right;\">\n",
       "      <th></th>\n",
       "      <th>comment</th>\n",
       "      <th>point</th>\n",
       "    </tr>\n",
       "  </thead>\n",
       "  <tbody>\n",
       "    <tr>\n",
       "      <th>0</th>\n",
       "      <td>Jean Reno denince zaten leon filmi gelir akla...</td>\n",
       "      <td>2</td>\n",
       "    </tr>\n",
       "    <tr>\n",
       "      <th>1</th>\n",
       "      <td>Ekşın falan izlemek istiyorsanız eğer bunu iz...</td>\n",
       "      <td>2</td>\n",
       "    </tr>\n",
       "    <tr>\n",
       "      <th>2</th>\n",
       "      <td>Bu yapım hakkında öyle çok şey yazabilirim ki...</td>\n",
       "      <td>2</td>\n",
       "    </tr>\n",
       "    <tr>\n",
       "      <th>3</th>\n",
       "      <td>finali yeter     sting   shape of my heart  b...</td>\n",
       "      <td>2</td>\n",
       "    </tr>\n",
       "    <tr>\n",
       "      <th>4</th>\n",
       "      <td>Jean Reno   bu adam kusursuz biri   ve oyuncu...</td>\n",
       "      <td>2</td>\n",
       "    </tr>\n",
       "  </tbody>\n",
       "</table>\n",
       "</div>"
      ],
      "text/plain": [
       "                                             comment  point\n",
       "0   Jean Reno denince zaten leon filmi gelir akla...      2\n",
       "1   Ekşın falan izlemek istiyorsanız eğer bunu iz...      2\n",
       "2   Bu yapım hakkında öyle çok şey yazabilirim ki...      2\n",
       "3   finali yeter     sting   shape of my heart  b...      2\n",
       "4   Jean Reno   bu adam kusursuz biri   ve oyuncu...      2"
      ]
     },
     "execution_count": 4,
     "metadata": {},
     "output_type": "execute_result"
    }
   ],
   "source": [
    "# Clean dataset:\n",
    "#   remove all punctions, numbers, newlines etc.\n",
    "#   make points categorical(5 class): 0-1->0 , 2->1, 3->2, 4->3, 5->4 \n",
    "df['comment'] = df['comment'].replace('\\s+', ' ', regex=True)\n",
    "df['comment'] = df['comment'].replace('http\\S+', '', regex=True)\n",
    "df['comment'] = df['comment'].replace('[^a-zA-ZığĞÜüŞşİÖöÇç]', ' ', regex=True)\n",
    "df['point'] = df['point'].replace('0,5','0', regex=True)\n",
    "df['point'] = df['point'].replace('1,\\d','0', regex=True)\n",
    "df['point'] = df['point'].replace('2,\\d','1', regex=True)\n",
    "df['point'] = df['point'].replace('3,\\d','1', regex=True)\n",
    "df['point'] = df['point'].replace('4,\\d','2', regex=True)\n",
    "df['point'] = df['point'].replace('5,\\d','2', regex=True)\n",
    "df['point'] = df['point'].astype(int)\n",
    "df.head(5)"
   ]
  },
  {
   "cell_type": "code",
   "execution_count": 5,
   "metadata": {},
   "outputs": [
    {
     "data": {
      "text/html": [
       "<div>\n",
       "<style scoped>\n",
       "    .dataframe tbody tr th:only-of-type {\n",
       "        vertical-align: middle;\n",
       "    }\n",
       "\n",
       "    .dataframe tbody tr th {\n",
       "        vertical-align: top;\n",
       "    }\n",
       "\n",
       "    .dataframe thead th {\n",
       "        text-align: right;\n",
       "    }\n",
       "</style>\n",
       "<table border=\"1\" class=\"dataframe\">\n",
       "  <thead>\n",
       "    <tr style=\"text-align: right;\">\n",
       "      <th></th>\n",
       "      <th>comment</th>\n",
       "      <th>point</th>\n",
       "    </tr>\n",
       "  </thead>\n",
       "  <tbody>\n",
       "    <tr>\n",
       "      <th>0</th>\n",
       "      <td>jean reno denince zaten leon filmi gelir akla...</td>\n",
       "      <td>2</td>\n",
       "    </tr>\n",
       "    <tr>\n",
       "      <th>1</th>\n",
       "      <td>ekşın falan izlemek istiyorsanız eğer bunu iz...</td>\n",
       "      <td>2</td>\n",
       "    </tr>\n",
       "    <tr>\n",
       "      <th>2</th>\n",
       "      <td>bu yapım hakkında öyle çok şey yazabilirim ki...</td>\n",
       "      <td>2</td>\n",
       "    </tr>\n",
       "    <tr>\n",
       "      <th>3</th>\n",
       "      <td>finali yeter     sting   shape of my heart  b...</td>\n",
       "      <td>2</td>\n",
       "    </tr>\n",
       "    <tr>\n",
       "      <th>4</th>\n",
       "      <td>jean reno   bu adam kusursuz biri   ve oyuncu...</td>\n",
       "      <td>2</td>\n",
       "    </tr>\n",
       "  </tbody>\n",
       "</table>\n",
       "</div>"
      ],
      "text/plain": [
       "                                             comment  point\n",
       "0   jean reno denince zaten leon filmi gelir akla...      2\n",
       "1   ekşın falan izlemek istiyorsanız eğer bunu iz...      2\n",
       "2   bu yapım hakkında öyle çok şey yazabilirim ki...      2\n",
       "3   finali yeter     sting   shape of my heart  b...      2\n",
       "4   jean reno   bu adam kusursuz biri   ve oyuncu...      2"
      ]
     },
     "execution_count": 5,
     "metadata": {},
     "output_type": "execute_result"
    }
   ],
   "source": [
    "# make all comment lower case\n",
    "df['comment'] = df['comment'].str.lower()\n",
    "df.head(5)"
   ]
  },
  {
   "cell_type": "code",
   "execution_count": 6,
   "metadata": {
    "scrolled": true
   },
   "outputs": [
    {
     "data": {
      "text/html": [
       "<div>\n",
       "<style scoped>\n",
       "    .dataframe tbody tr th:only-of-type {\n",
       "        vertical-align: middle;\n",
       "    }\n",
       "\n",
       "    .dataframe tbody tr th {\n",
       "        vertical-align: top;\n",
       "    }\n",
       "\n",
       "    .dataframe thead th {\n",
       "        text-align: right;\n",
       "    }\n",
       "</style>\n",
       "<table border=\"1\" class=\"dataframe\">\n",
       "  <thead>\n",
       "    <tr style=\"text-align: right;\">\n",
       "      <th></th>\n",
       "      <th>comment</th>\n",
       "      <th>point</th>\n",
       "    </tr>\n",
       "  </thead>\n",
       "  <tbody>\n",
       "    <tr>\n",
       "      <th>0</th>\n",
       "      <td>[jean, reno, denince, zaten, leon, filmi, geli...</td>\n",
       "      <td>2</td>\n",
       "    </tr>\n",
       "    <tr>\n",
       "      <th>1</th>\n",
       "      <td>[ekşın, falan, izlemek, istiyorsanız, bunu, iz...</td>\n",
       "      <td>2</td>\n",
       "    </tr>\n",
       "    <tr>\n",
       "      <th>2</th>\n",
       "      <td>[yapım, hakkında, öyle, yazabilirim, kitap, ol...</td>\n",
       "      <td>2</td>\n",
       "    </tr>\n",
       "    <tr>\n",
       "      <th>3</th>\n",
       "      <td>[finali, yeter, sting, shape, heart, bazıları,...</td>\n",
       "      <td>2</td>\n",
       "    </tr>\n",
       "    <tr>\n",
       "      <th>4</th>\n",
       "      <td>[jean, reno, adam, kusursuz, oyunculugu, müthi...</td>\n",
       "      <td>2</td>\n",
       "    </tr>\n",
       "  </tbody>\n",
       "</table>\n",
       "</div>"
      ],
      "text/plain": [
       "                                             comment  point\n",
       "0  [jean, reno, denince, zaten, leon, filmi, geli...      2\n",
       "1  [ekşın, falan, izlemek, istiyorsanız, bunu, iz...      2\n",
       "2  [yapım, hakkında, öyle, yazabilirim, kitap, ol...      2\n",
       "3  [finali, yeter, sting, shape, heart, bazıları,...      2\n",
       "4  [jean, reno, adam, kusursuz, oyunculugu, müthi...      2"
      ]
     },
     "execution_count": 6,
     "metadata": {},
     "output_type": "execute_result"
    }
   ],
   "source": [
    "# Tokenize data, remove stopwords and remove words smaller than min_char=2\n",
    "min_char = 2\n",
    "max_char = 20\n",
    "stop_words = set(stopwords.words('turkish'))\n",
    "def clean_tokenize(text):\n",
    "    return [word for word in word_tokenize(text) if (word not in stop_words) and (len(word) > min_char) and (len(word) < max_char)]\n",
    "\n",
    "df['comment'] = df['comment'].apply(clean_tokenize)\n",
    "df.head(5)"
   ]
  },
  {
   "cell_type": "raw",
   "metadata": {},
   "source": [
    "label_0 = df[df.point == 0]['comment']\n",
    "label_1 = df[df.point == 1]['comment']\n",
    "label_2 = df[df.point == 2]['comment']\n",
    "label_3 = df[df.point == 3]['comment']\n",
    "label_4 = df[df.point == 4]['comment']\n",
    "\n",
    "splitted_data = [label_0, label_1, label_2, label_3, label_4]\n",
    "for item in range(5):\n",
    "    plt.figure(figsize=(20, 10))\n",
    "    all_ = []\n",
    "    for i in splitted_data[item]:\n",
    "        all_ += i \n",
    "    pd.Series(all_).value_counts().head(20).plot(kind='bar')\n",
    "    plt.show()"
   ]
  },
  {
   "cell_type": "code",
   "execution_count": 7,
   "metadata": {
    "scrolled": true
   },
   "outputs": [
    {
     "data": {
      "image/png": "[encoded data removed]",
      "text/plain": [
       "<Figure size 1440x720 with 1 Axes>"
      ]
     },
     "metadata": {
      "needs_background": "light"
     },
     "output_type": "display_data"
    },
    {
     "data": {
      "image/png": "[encoded data removed]",
      "text/plain": [
       "<Figure size 1440x720 with 1 Axes>"
      ]
     },
     "metadata": {
      "needs_background": "light"
     },
     "output_type": "display_data"
    },
    {
     "data": {
      "image/png": "[encoded data removed]",
      "text/plain": [
       "<Figure size 1440x720 with 1 Axes>"
      ]
     },
     "metadata": {
      "needs_background": "light"
     },
     "output_type": "display_data"
    }
   ],
   "source": [
    "label_0 = df[df.point == 0]['comment']\n",
    "label_1 = df[df.point == 1]['comment']\n",
    "label_2 = df[df.point == 2]['comment']\n",
    "\n",
    "splitted_data = [label_0, label_1, label_2]\n",
    "for item in range(3):\n",
    "    plt.figure(figsize=(20, 10))\n",
    "    all_ = []\n",
    "    for i in splitted_data[item]:\n",
    "        all_ += i \n",
    "    pd.Series(all_).value_counts().head(20).plot(kind='bar')\n",
    "    plt.show()"
   ]
  },
  {
   "cell_type": "code",
   "execution_count": null,
   "metadata": {},
   "outputs": [],
   "source": [
    "from math import log\n",
    "\n",
    "J = df['comment'].count()\n",
    "J_i = {}\n",
    "\n",
    "label_0 = df[df.point == 0]['comment']\n",
    "label_1 = df[df.point == 1]['comment']\n",
    "label_2 = df[df.point == 2]['comment']\n",
    "splitted_data = [label_0, label_1, label_2]\n",
    "for item in range(3):\n",
    "    all_ = []\n",
    "    for i in splitted_data[item]:\n",
    "        all_ += i\n",
    "        \n",
    "    nc = pd.Series(all_).value_counts()\n",
    "    log(nc_i + 1) * log() for nc_i in nc\n",
    "    plt.show()"
   ]
  },
  {
   "cell_type": "code",
   "execution_count": 9,
   "metadata": {},
   "outputs": [],
   "source": [
    "model = Word2Vec(df['comment'], size=300, min_count=5, window=3)\n",
    "model.wv.save_word2vec_format('embedding_vectors.txt', binary=False)"
   ]
  },
  {
   "cell_type": "code",
   "execution_count": 10,
   "metadata": {},
   "outputs": [],
   "source": [
    "df['comment'] = df['comment'].apply(' '.join)\n",
    "df.to_csv('data/clean_dataset.csv', index=False)"
   ]
  },
  {
   "cell_type": "markdown",
   "metadata": {},
   "source": [
    "from sklearn.utils import shuffle\n",
    "import nlpaug.augmenter.word as naw\n",
    "\n",
    "def augment_text(df, class_n, samples=300,pr=0.2):\n",
    "    aug_w2v = naw.WordEmbsAug(model_type='word2vec', model_path='embedding_vectors.txt', action='substitute')\n",
    "    aug_w2v.aug_p=pr\n",
    "    new_text=[]\n",
    "    \n",
    "    # Selecting class\n",
    "    df_n=df[df.point==class_n].reset_index(drop=True)\n",
    "\n",
    "    ## data augmentation loop\n",
    "    j=0\n",
    "    for k in range(samples):    \n",
    "        try:\n",
    "            i = np.random.randint(0,len(df_n))\n",
    "            text = df_n.iloc[i]['comment']\n",
    "            augmented_text = aug_w2v.augment(text)\n",
    "            new_text.append(augmented_text)\n",
    "            j += 1\n",
    "        except Exception:\n",
    "            pass\n",
    "    \n",
    "    ## dataframe\n",
    "    new = pd.DataFrame({'comment':new_text,'point':class_n})\n",
    "    df = shuffle(df.append(new).reset_index(drop=True))\n",
    "    return df\n",
    "\n",
    "df = augment_text(df, 0, 2000)\n",
    "df = augment_text(df, 1, 5000)\n",
    "df.point.value_counts()"
   ]
  }
 ],
 "metadata": {
  "kernelspec": {
   "display_name": "Python 3",
   "language": "python",
   "name": "python3"
  },
  "language_info": {
   "codemirror_mode": {
    "name": "ipython",
    "version": 3
   },
   "file_extension": ".py",
   "mimetype": "text/x-python",
   "name": "python",
   "nbconvert_exporter": "python",
   "pygments_lexer": "ipython3",
   "version": "3.9.0"
  }
 },
 "nbformat": 4,
 "nbformat_minor": 2
}
